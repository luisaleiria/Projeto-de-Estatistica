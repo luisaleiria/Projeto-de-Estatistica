{
  "cells": [
    {
      "cell_type": "markdown",
      "metadata": {
        "colab_type": "text",
        "id": "view-in-github"
      },
      "source": [
        "<a href=\"https://colab.research.google.com/github/luisaleiria/Projeto-de-Estatistica/blob/main/projEstatisitica.ipynb\" target=\"_parent\"><img src=\"https://colab.research.google.com/assets/colab-badge.svg\" alt=\"Open In Colab\"/></a>"
      ]
    },
    {
      "cell_type": "markdown",
      "metadata": {
        "id": "53KJJWDL-cIj"
      },
      "source": [
        "### Projeto de Estatistica baseado no principio de Nayve Bayes\n"
      ]
    },
    {
      "cell_type": "code",
      "execution_count": null,
      "metadata": {
        "id": "IkuJlRQ7EqP2"
      },
      "outputs": [],
      "source": [
        "#importando bibliotecas necessarias\n",
        "import pandas as pd\n",
        "import numpy as np\n",
        "#importando bibliotecas para visualizacao\n",
        "import seaborn as sns\n",
        "import matplotlib.pyplot as plt\n",
        "#scikit learn\n",
        "from sklearn.model_selection import train_test_split\n",
        "from sklearn.naive_bayes import CategoricalNB\n",
        "from sklearn.metrics import accuracy_score, classification_report, confusion_matrix, ConfusionMatrixDisplay\n",
        "from sklearn.feature_selection import SelectKBest, chi2"
      ]
    },
    {
      "cell_type": "code",
      "execution_count": null,
      "metadata": {
        "id": "mot_52UMEDXJ"
      },
      "outputs": [],
      "source": [
        "#importando o DataSet\n",
        "df = pd.read_csv(\"/content/gapminder_alcohol_1.csv\")\n"
      ]
    },
    {
      "cell_type": "code",
      "execution_count": null,
      "metadata": {
        "id": "w23TYZdqfKw0"
      },
      "outputs": [],
      "source": [
        "#funcao para remover as linhas nulas\n",
        "df.dropna(inplace=True)"
      ]
    },
    {
      "cell_type": "markdown",
      "metadata": {
        "id": "1xTmNpln3uzu"
      },
      "source": [
        "Transformando dados continuos em dados categoricos"
      ]
    },
    {
      "cell_type": "code",
      "execution_count": null,
      "metadata": {
        "id": "tUD3q6ohp1fc"
      },
      "outputs": [],
      "source": [
        "#categorizando intervalo de valor de consumo em 3 faixas\n",
        "\n",
        "def classificar(valor):\n",
        "    if valor < 4:\n",
        "        return 'consumo baixo'\n",
        "    elif 4 <= valor < 8:\n",
        "        return 'consumo moderado'\n",
        "    else:\n",
        "        return 'consumo alto'\n",
        "\n",
        "# Aplicar a função à coluna 'coluna_original' para criar uma nova coluna 'coluna_classificada'\n",
        "df['consumo_alcool'] = df['alcconsumption'].apply(classificar)"
      ]
    },
    {
      "cell_type": "code",
      "execution_count": null,
      "metadata": {
        "id": "kLrB0lcGnfka"
      },
      "outputs": [],
      "source": [
        "#categorizando intervalo de renda em 4 faixas\n",
        "\n",
        "def classificar(valor):\n",
        "    if valor < 600:\n",
        "        return 'muito baixa'\n",
        "    elif 600 <= valor < 2400:\n",
        "        return 'baixa'\n",
        "    elif 2400 <= valor < 8600:\n",
        "        return 'media'\n",
        "    else:\n",
        "        return 'alta'\n",
        "\n",
        "# Aplicar a função à coluna 'coluna_original'para criar uma nova coluna 'coluna_classificada'\n",
        "df['renda'] = df['incomeperperson'].apply(classificar)\n"
      ]
    },
    {
      "cell_type": "code",
      "execution_count": null,
      "metadata": {
        "id": "Dpofvm3-03JU"
      },
      "outputs": [],
      "source": [
        "#categorizando a taxa de suicidio em 3 faixas\n",
        "\n",
        "def classificar(valor):\n",
        "    if valor < 5.8:\n",
        "        return 'muito baixa'\n",
        "    elif 5.8 <= valor < 9:\n",
        "        return 'baixa'\n",
        "    elif 9 <= valor < 13:\n",
        "        return 'media'\n",
        "    else:\n",
        "        return 'alta'\n",
        "\n",
        "# Aplicar a função à coluna 'coluna_original' para criar uma nova coluna 'coluna_classificada'\n",
        "df['tax_suicidio'] = df['suicideper100th'].apply(classificar)\n"
      ]
    },
    {
      "cell_type": "code",
      "execution_count": null,
      "metadata": {
        "id": "tIGwPPj51ZjA"
      },
      "outputs": [],
      "source": [
        "#categorizando a taxa de emprego em 3 faixas\n",
        "\n",
        "def classificar(valor):\n",
        "    if valor < 51.5:\n",
        "        return 'muito baixa'\n",
        "    elif 51.5 <= valor < 58.8:\n",
        "        return 'baixa'\n",
        "    elif 58.8 <= valor < 65:\n",
        "        return 'media'\n",
        "    else:\n",
        "        return 'alta'\n",
        "\n",
        "# Aplicar a função à coluna 'coluna_original' para criar uma nova coluna 'coluna_classificada'\n",
        "df['tax_emprego'] = df['employrate'].apply(classificar)\n"
      ]
    },
    {
      "cell_type": "code",
      "execution_count": null,
      "metadata": {
        "id": "t_Dw_rBA2Ilj"
      },
      "outputs": [],
      "source": [
        "#categorizando a taxa urbana em 3 faixas\n",
        "\n",
        "def classificar(valor):\n",
        "    if valor < 37:\n",
        "        return 'muito baixa'\n",
        "    elif 37 <= valor < 57.6:\n",
        "        return 'baixa'\n",
        "    elif 57.6 <= valor < 73.4:\n",
        "        return 'media'\n",
        "    else:\n",
        "        return 'alta'\n",
        "\n",
        "# Aplicar a função à coluna 'coluna_original' para criar uma nova coluna 'coluna_classificada'\n",
        "df['tax_urbana'] = df['urbanrate'].apply(classificar)\n"
      ]
    },
    {
      "cell_type": "code",
      "execution_count": null,
      "metadata": {
        "colab": {
          "base_uri": "https://localhost:8080/",
          "height": 300
        },
        "id": "kVxHEQ-DJacd",
        "outputId": "c79dcb82-fa65-4854-c86e-550823493a0a"
      },
      "outputs": [
        {
          "data": {
            "application/vnd.google.colaboratory.intrinsic+json": {
              "summary": "{\n  \"name\": \"df\",\n  \"rows\": 8,\n  \"fields\": [\n    {\n      \"column\": \"alcconsumption\",\n      \"properties\": {\n        \"dtype\": \"number\",\n        \"std\": 55.00292244183159,\n        \"min\": 0.05,\n        \"max\": 162.0,\n        \"num_unique_values\": 8,\n        \"samples\": [\n          6.812407407407409,\n          6.1,\n          162.0\n        ],\n        \"semantic_type\": \"\",\n        \"description\": \"\"\n      }\n    },\n    {\n      \"column\": \"incomeperperson\",\n      \"properties\": {\n        \"dtype\": \"number\",\n        \"std\": 17484.149300433357,\n        \"min\": 103.7758572,\n        \"max\": 52301.58718,\n        \"num_unique_values\": 8,\n        \"samples\": [\n          7240.94935824568,\n          2385.1841045,\n          162.0\n        ],\n        \"semantic_type\": \"\",\n        \"description\": \"\"\n      }\n    },\n    {\n      \"column\": \"suicideper100th\",\n      \"properties\": {\n        \"dtype\": \"number\",\n        \"std\": 54.288313523448224,\n        \"min\": 0.201448724,\n        \"max\": 162.0,\n        \"num_unique_values\": 8,\n        \"samples\": [\n          9.92477270028395,\n          9.050307499999999,\n          162.0\n        ],\n        \"semantic_type\": \"\",\n        \"description\": \"\"\n      }\n    },\n    {\n      \"column\": \"employrate\",\n      \"properties\": {\n        \"dtype\": \"number\",\n        \"std\": 44.53143935451308,\n        \"min\": 10.364735292704683,\n        \"max\": 162.0,\n        \"num_unique_values\": 8,\n        \"samples\": [\n          59.07469141969136,\n          58.850000385,\n          162.0\n        ],\n        \"semantic_type\": \"\",\n        \"description\": \"\"\n      }\n    },\n    {\n      \"column\": \"urbanrate\",\n      \"properties\": {\n        \"dtype\": \"number\",\n        \"std\": 48.42303932084981,\n        \"min\": 10.4,\n        \"max\": 162.0,\n        \"num_unique_values\": 8,\n        \"samples\": [\n          55.8220987654321,\n          57.61,\n          162.0\n        ],\n        \"semantic_type\": \"\",\n        \"description\": \"\"\n      }\n    }\n  ]\n}",
              "type": "dataframe"
            },
            "text/html": [
              "\n",
              "  <div id=\"df-c2337fbe-c96c-4a40-8915-822d59560440\" class=\"colab-df-container\">\n",
              "    <div>\n",
              "<style scoped>\n",
              "    .dataframe tbody tr th:only-of-type {\n",
              "        vertical-align: middle;\n",
              "    }\n",
              "\n",
              "    .dataframe tbody tr th {\n",
              "        vertical-align: top;\n",
              "    }\n",
              "\n",
              "    .dataframe thead th {\n",
              "        text-align: right;\n",
              "    }\n",
              "</style>\n",
              "<table border=\"1\" class=\"dataframe\">\n",
              "  <thead>\n",
              "    <tr style=\"text-align: right;\">\n",
              "      <th></th>\n",
              "      <th>alcconsumption</th>\n",
              "      <th>incomeperperson</th>\n",
              "      <th>suicideper100th</th>\n",
              "      <th>employrate</th>\n",
              "      <th>urbanrate</th>\n",
              "    </tr>\n",
              "  </thead>\n",
              "  <tbody>\n",
              "    <tr>\n",
              "      <th>count</th>\n",
              "      <td>162.000000</td>\n",
              "      <td>162.000000</td>\n",
              "      <td>162.000000</td>\n",
              "      <td>162.000000</td>\n",
              "      <td>162.000000</td>\n",
              "    </tr>\n",
              "    <tr>\n",
              "      <th>mean</th>\n",
              "      <td>6.812407</td>\n",
              "      <td>7240.949358</td>\n",
              "      <td>9.924773</td>\n",
              "      <td>59.074691</td>\n",
              "      <td>55.822099</td>\n",
              "    </tr>\n",
              "    <tr>\n",
              "      <th>std</th>\n",
              "      <td>4.995732</td>\n",
              "      <td>10489.917556</td>\n",
              "      <td>6.330316</td>\n",
              "      <td>10.364735</td>\n",
              "      <td>22.534784</td>\n",
              "    </tr>\n",
              "    <tr>\n",
              "      <th>min</th>\n",
              "      <td>0.050000</td>\n",
              "      <td>103.775857</td>\n",
              "      <td>0.201449</td>\n",
              "      <td>34.900002</td>\n",
              "      <td>10.400000</td>\n",
              "    </tr>\n",
              "    <tr>\n",
              "      <th>25%</th>\n",
              "      <td>2.707500</td>\n",
              "      <td>599.188702</td>\n",
              "      <td>5.785134</td>\n",
              "      <td>51.575001</td>\n",
              "      <td>36.965000</td>\n",
              "    </tr>\n",
              "    <tr>\n",
              "      <th>50%</th>\n",
              "      <td>6.100000</td>\n",
              "      <td>2385.184105</td>\n",
              "      <td>9.050307</td>\n",
              "      <td>58.850000</td>\n",
              "      <td>57.610000</td>\n",
              "    </tr>\n",
              "    <tr>\n",
              "      <th>75%</th>\n",
              "      <td>9.930000</td>\n",
              "      <td>8602.284306</td>\n",
              "      <td>12.755157</td>\n",
              "      <td>65.000000</td>\n",
              "      <td>73.395000</td>\n",
              "    </tr>\n",
              "    <tr>\n",
              "      <th>max</th>\n",
              "      <td>23.010000</td>\n",
              "      <td>52301.587180</td>\n",
              "      <td>35.752872</td>\n",
              "      <td>83.199997</td>\n",
              "      <td>100.000000</td>\n",
              "    </tr>\n",
              "  </tbody>\n",
              "</table>\n",
              "</div>\n",
              "    <div class=\"colab-df-buttons\">\n",
              "\n",
              "  <div class=\"colab-df-container\">\n",
              "    <button class=\"colab-df-convert\" onclick=\"convertToInteractive('df-c2337fbe-c96c-4a40-8915-822d59560440')\"\n",
              "            title=\"Convert this dataframe to an interactive table.\"\n",
              "            style=\"display:none;\">\n",
              "\n",
              "  <svg xmlns=\"http://www.w3.org/2000/svg\" height=\"24px\" viewBox=\"0 -960 960 960\">\n",
              "    <path d=\"M120-120v-720h720v720H120Zm60-500h600v-160H180v160Zm220 220h160v-160H400v160Zm0 220h160v-160H400v160ZM180-400h160v-160H180v160Zm440 0h160v-160H620v160ZM180-180h160v-160H180v160Zm440 0h160v-160H620v160Z\"/>\n",
              "  </svg>\n",
              "    </button>\n",
              "\n",
              "  <style>\n",
              "    .colab-df-container {\n",
              "      display:flex;\n",
              "      gap: 12px;\n",
              "    }\n",
              "\n",
              "    .colab-df-convert {\n",
              "      background-color: #E8F0FE;\n",
              "      border: none;\n",
              "      border-radius: 50%;\n",
              "      cursor: pointer;\n",
              "      display: none;\n",
              "      fill: #1967D2;\n",
              "      height: 32px;\n",
              "      padding: 0 0 0 0;\n",
              "      width: 32px;\n",
              "    }\n",
              "\n",
              "    .colab-df-convert:hover {\n",
              "      background-color: #E2EBFA;\n",
              "      box-shadow: 0px 1px 2px rgba(60, 64, 67, 0.3), 0px 1px 3px 1px rgba(60, 64, 67, 0.15);\n",
              "      fill: #174EA6;\n",
              "    }\n",
              "\n",
              "    .colab-df-buttons div {\n",
              "      margin-bottom: 4px;\n",
              "    }\n",
              "\n",
              "    [theme=dark] .colab-df-convert {\n",
              "      background-color: #3B4455;\n",
              "      fill: #D2E3FC;\n",
              "    }\n",
              "\n",
              "    [theme=dark] .colab-df-convert:hover {\n",
              "      background-color: #434B5C;\n",
              "      box-shadow: 0px 1px 3px 1px rgba(0, 0, 0, 0.15);\n",
              "      filter: drop-shadow(0px 1px 2px rgba(0, 0, 0, 0.3));\n",
              "      fill: #FFFFFF;\n",
              "    }\n",
              "  </style>\n",
              "\n",
              "    <script>\n",
              "      const buttonEl =\n",
              "        document.querySelector('#df-c2337fbe-c96c-4a40-8915-822d59560440 button.colab-df-convert');\n",
              "      buttonEl.style.display =\n",
              "        google.colab.kernel.accessAllowed ? 'block' : 'none';\n",
              "\n",
              "      async function convertToInteractive(key) {\n",
              "        const element = document.querySelector('#df-c2337fbe-c96c-4a40-8915-822d59560440');\n",
              "        const dataTable =\n",
              "          await google.colab.kernel.invokeFunction('convertToInteractive',\n",
              "                                                    [key], {});\n",
              "        if (!dataTable) return;\n",
              "\n",
              "        const docLinkHtml = 'Like what you see? Visit the ' +\n",
              "          '<a target=\"_blank\" href=https://colab.research.google.com/notebooks/data_table.ipynb>data table notebook</a>'\n",
              "          + ' to learn more about interactive tables.';\n",
              "        element.innerHTML = '';\n",
              "        dataTable['output_type'] = 'display_data';\n",
              "        await google.colab.output.renderOutput(dataTable, element);\n",
              "        const docLink = document.createElement('div');\n",
              "        docLink.innerHTML = docLinkHtml;\n",
              "        element.appendChild(docLink);\n",
              "      }\n",
              "    </script>\n",
              "  </div>\n",
              "\n",
              "\n",
              "<div id=\"df-8fb29a2e-f428-4547-b558-388411ab94e6\">\n",
              "  <button class=\"colab-df-quickchart\" onclick=\"quickchart('df-8fb29a2e-f428-4547-b558-388411ab94e6')\"\n",
              "            title=\"Suggest charts\"\n",
              "            style=\"display:none;\">\n",
              "\n",
              "<svg xmlns=\"http://www.w3.org/2000/svg\" height=\"24px\"viewBox=\"0 0 24 24\"\n",
              "     width=\"24px\">\n",
              "    <g>\n",
              "        <path d=\"M19 3H5c-1.1 0-2 .9-2 2v14c0 1.1.9 2 2 2h14c1.1 0 2-.9 2-2V5c0-1.1-.9-2-2-2zM9 17H7v-7h2v7zm4 0h-2V7h2v10zm4 0h-2v-4h2v4z\"/>\n",
              "    </g>\n",
              "</svg>\n",
              "  </button>\n",
              "\n",
              "<style>\n",
              "  .colab-df-quickchart {\n",
              "      --bg-color: #E8F0FE;\n",
              "      --fill-color: #1967D2;\n",
              "      --hover-bg-color: #E2EBFA;\n",
              "      --hover-fill-color: #174EA6;\n",
              "      --disabled-fill-color: #AAA;\n",
              "      --disabled-bg-color: #DDD;\n",
              "  }\n",
              "\n",
              "  [theme=dark] .colab-df-quickchart {\n",
              "      --bg-color: #3B4455;\n",
              "      --fill-color: #D2E3FC;\n",
              "      --hover-bg-color: #434B5C;\n",
              "      --hover-fill-color: #FFFFFF;\n",
              "      --disabled-bg-color: #3B4455;\n",
              "      --disabled-fill-color: #666;\n",
              "  }\n",
              "\n",
              "  .colab-df-quickchart {\n",
              "    background-color: var(--bg-color);\n",
              "    border: none;\n",
              "    border-radius: 50%;\n",
              "    cursor: pointer;\n",
              "    display: none;\n",
              "    fill: var(--fill-color);\n",
              "    height: 32px;\n",
              "    padding: 0;\n",
              "    width: 32px;\n",
              "  }\n",
              "\n",
              "  .colab-df-quickchart:hover {\n",
              "    background-color: var(--hover-bg-color);\n",
              "    box-shadow: 0 1px 2px rgba(60, 64, 67, 0.3), 0 1px 3px 1px rgba(60, 64, 67, 0.15);\n",
              "    fill: var(--button-hover-fill-color);\n",
              "  }\n",
              "\n",
              "  .colab-df-quickchart-complete:disabled,\n",
              "  .colab-df-quickchart-complete:disabled:hover {\n",
              "    background-color: var(--disabled-bg-color);\n",
              "    fill: var(--disabled-fill-color);\n",
              "    box-shadow: none;\n",
              "  }\n",
              "\n",
              "  .colab-df-spinner {\n",
              "    border: 2px solid var(--fill-color);\n",
              "    border-color: transparent;\n",
              "    border-bottom-color: var(--fill-color);\n",
              "    animation:\n",
              "      spin 1s steps(1) infinite;\n",
              "  }\n",
              "\n",
              "  @keyframes spin {\n",
              "    0% {\n",
              "      border-color: transparent;\n",
              "      border-bottom-color: var(--fill-color);\n",
              "      border-left-color: var(--fill-color);\n",
              "    }\n",
              "    20% {\n",
              "      border-color: transparent;\n",
              "      border-left-color: var(--fill-color);\n",
              "      border-top-color: var(--fill-color);\n",
              "    }\n",
              "    30% {\n",
              "      border-color: transparent;\n",
              "      border-left-color: var(--fill-color);\n",
              "      border-top-color: var(--fill-color);\n",
              "      border-right-color: var(--fill-color);\n",
              "    }\n",
              "    40% {\n",
              "      border-color: transparent;\n",
              "      border-right-color: var(--fill-color);\n",
              "      border-top-color: var(--fill-color);\n",
              "    }\n",
              "    60% {\n",
              "      border-color: transparent;\n",
              "      border-right-color: var(--fill-color);\n",
              "    }\n",
              "    80% {\n",
              "      border-color: transparent;\n",
              "      border-right-color: var(--fill-color);\n",
              "      border-bottom-color: var(--fill-color);\n",
              "    }\n",
              "    90% {\n",
              "      border-color: transparent;\n",
              "      border-bottom-color: var(--fill-color);\n",
              "    }\n",
              "  }\n",
              "</style>\n",
              "\n",
              "  <script>\n",
              "    async function quickchart(key) {\n",
              "      const quickchartButtonEl =\n",
              "        document.querySelector('#' + key + ' button');\n",
              "      quickchartButtonEl.disabled = true;  // To prevent multiple clicks.\n",
              "      quickchartButtonEl.classList.add('colab-df-spinner');\n",
              "      try {\n",
              "        const charts = await google.colab.kernel.invokeFunction(\n",
              "            'suggestCharts', [key], {});\n",
              "      } catch (error) {\n",
              "        console.error('Error during call to suggestCharts:', error);\n",
              "      }\n",
              "      quickchartButtonEl.classList.remove('colab-df-spinner');\n",
              "      quickchartButtonEl.classList.add('colab-df-quickchart-complete');\n",
              "    }\n",
              "    (() => {\n",
              "      let quickchartButtonEl =\n",
              "        document.querySelector('#df-8fb29a2e-f428-4547-b558-388411ab94e6 button');\n",
              "      quickchartButtonEl.style.display =\n",
              "        google.colab.kernel.accessAllowed ? 'block' : 'none';\n",
              "    })();\n",
              "  </script>\n",
              "</div>\n",
              "    </div>\n",
              "  </div>\n"
            ],
            "text/plain": [
              "       alcconsumption  incomeperperson  suicideper100th  employrate  \\\n",
              "count      162.000000       162.000000       162.000000  162.000000   \n",
              "mean         6.812407      7240.949358         9.924773   59.074691   \n",
              "std          4.995732     10489.917556         6.330316   10.364735   \n",
              "min          0.050000       103.775857         0.201449   34.900002   \n",
              "25%          2.707500       599.188702         5.785134   51.575001   \n",
              "50%          6.100000      2385.184105         9.050307   58.850000   \n",
              "75%          9.930000      8602.284306        12.755157   65.000000   \n",
              "max         23.010000     52301.587180        35.752872   83.199997   \n",
              "\n",
              "        urbanrate  \n",
              "count  162.000000  \n",
              "mean    55.822099  \n",
              "std     22.534784  \n",
              "min     10.400000  \n",
              "25%     36.965000  \n",
              "50%     57.610000  \n",
              "75%     73.395000  \n",
              "max    100.000000  "
            ]
          },
          "execution_count": 70,
          "metadata": {},
          "output_type": "execute_result"
        }
      ],
      "source": [
        "df.describe()"
      ]
    },
    {
      "cell_type": "code",
      "execution_count": null,
      "metadata": {
        "id": "eGrF5vOGfAu3"
      },
      "outputs": [],
      "source": [
        "#removendo linhas nulas\n",
        "df.dropna(how='all', inplace=True)"
      ]
    },
    {
      "cell_type": "markdown",
      "metadata": {
        "id": "9KY7U4PXQVsU"
      },
      "source": [
        "# **EDA**"
      ]
    },
    {
      "cell_type": "markdown",
      "metadata": {
        "id": "1kYbdXa_QOVX"
      },
      "source": [
        "Vamos verificar se o dataset escolhido esta balanceado"
      ]
    },
    {
      "cell_type": "code",
      "execution_count": null,
      "metadata": {
        "colab": {
          "base_uri": "https://localhost:8080/",
          "height": 577
        },
        "id": "p1Rd8Bzv5vVH",
        "outputId": "63fb1b72-278d-4d7e-93ae-0114b984aeb7"
      },
      "outputs": [
        {
          "name": "stderr",
          "output_type": "stream",
          "text": [
            "<ipython-input-72-ffc794ed6862>:4: FutureWarning: \n",
            "\n",
            "Passing `palette` without assigning `hue` is deprecated and will be removed in v0.14.0. Assign the `x` variable to `hue` and set `legend=False` for the same effect.\n",
            "\n",
            "  sns.countplot(x = df[\"consumo_alcool\"], palette=cores, hue_order=ordem_consumo_alcool)\n"
          ]
        },
        {
          "data": {
            "text/plain": [
              "<Axes: xlabel='consumo_alcool', ylabel='count'>"
            ]
          },
          "execution_count": 72,
          "metadata": {},
          "output_type": "execute_result"
        },
        {
          "data": {
            "image/png": "[encoded data removed]",
            "text/plain": [
              "<Figure size 640x480 with 1 Axes>"
            ]
          },
          "metadata": {},
          "output_type": "display_data"
        }
      ],
      "source": [
        "cores = ['pink', 'magenta', 'purple']\n",
        "ordem_consumo_alcool = ['consumo baixo', 'consumo moderado', 'consumo alto']\n",
        "df['consumo_alcool'] = pd.Categorical(df['consumo_alcool'], categories=ordem_consumo_alcool, ordered=True)\n",
        "sns.countplot(x = df[\"consumo_alcool\"], palette=cores, hue_order=ordem_consumo_alcool)"
      ]
    },
    {
      "cell_type": "markdown",
      "metadata": {
        "id": "z02ZQp_Rablx"
      },
      "source": [
        "Observando o grafico, vemos que ele esta balanceado"
      ]
    },
    {
      "cell_type": "markdown",
      "metadata": {
        "id": "0tCqMCPzapbf"
      },
      "source": [
        "Vamos agora verificar se o grafico esta com algum valor faltando e realizar a correção\n"
      ]
    },
    {
      "cell_type": "code",
      "execution_count": null,
      "metadata": {
        "colab": {
          "base_uri": "https://localhost:8080/"
        },
        "id": "NaNXS2ctawbu",
        "outputId": "4ff1558e-65ad-44be-e84c-e93fb53f2144"
      },
      "outputs": [
        {
          "name": "stdout",
          "output_type": "stream",
          "text": [
            "<class 'pandas.core.frame.DataFrame'>\n",
            "Int64Index: 162 entries, 1 to 212\n",
            "Data columns (total 11 columns):\n",
            " #   Column           Non-Null Count  Dtype   \n",
            "---  ------           --------------  -----   \n",
            " 0   country          162 non-null    object  \n",
            " 1   alcconsumption   162 non-null    float64 \n",
            " 2   incomeperperson  162 non-null    float64 \n",
            " 3   suicideper100th  162 non-null    float64 \n",
            " 4   employrate       162 non-null    float64 \n",
            " 5   urbanrate        162 non-null    float64 \n",
            " 6   consumo_alcool   162 non-null    category\n",
            " 7   renda            162 non-null    object  \n",
            " 8   tax_suicidio     162 non-null    object  \n",
            " 9   tax_emprego      162 non-null    object  \n",
            " 10  tax_urbana       162 non-null    object  \n",
            "dtypes: category(1), float64(5), object(5)\n",
            "memory usage: 14.2+ KB\n"
          ]
        }
      ],
      "source": [
        "df.info()"
      ]
    },
    {
      "cell_type": "markdown",
      "metadata": {
        "id": "sL5QFgMQfcE2"
      },
      "source": [
        "Observando as informações recebidas com os dados do grafico, vemos que o numero de dados não nulos é compativel com o count ( numero de dados ) do dataset.\n",
        "\n",
        "Agora vamos contabilizar o numero de linhas nulas para certificar que realmente elas não estão presentes na analise"
      ]
    },
    {
      "cell_type": "code",
      "execution_count": null,
      "metadata": {
        "colab": {
          "base_uri": "https://localhost:8080/"
        },
        "id": "XZd5YGZZdilz",
        "outputId": "f6d5d09f-6b51-4da9-e0bb-58ae8f655c12"
      },
      "outputs": [
        {
          "data": {
            "text/plain": [
              "country            0\n",
              "alcconsumption     0\n",
              "incomeperperson    0\n",
              "suicideper100th    0\n",
              "employrate         0\n",
              "urbanrate          0\n",
              "consumo_alcool     0\n",
              "renda              0\n",
              "tax_suicidio       0\n",
              "tax_emprego        0\n",
              "tax_urbana         0\n",
              "dtype: int64"
            ]
          },
          "execution_count": 74,
          "metadata": {},
          "output_type": "execute_result"
        }
      ],
      "source": [
        "df.isnull().sum()"
      ]
    },
    {
      "cell_type": "code",
      "execution_count": null,
      "metadata": {
        "colab": {
          "base_uri": "https://localhost:8080/",
          "height": 475
        },
        "id": "vODWy1hQfw7s",
        "outputId": "55ba7e6d-fa39-4a7d-a13d-4881880c6d2e"
      },
      "outputs": [
        {
          "data": {
            "text/plain": [
              "<Axes: xlabel='renda', ylabel='count'>"
            ]
          },
          "execution_count": 75,
          "metadata": {},
          "output_type": "execute_result"
        },
        {
          "data": {
            "image/png": "[encoded data removed]",
            "text/plain": [
              "<Figure size 1400x600 with 1 Axes>"
            ]
          },
          "metadata": {},
          "output_type": "display_data"
        }
      ],
      "source": [
        "#plotando a renda per capita pelo consumo de alcool\n",
        "plt.figure(figsize=(14,6))\n",
        "cores = ['pink', 'magenta', 'purple']\n",
        "ordem = ['muito baixa', 'baixa', 'media', 'alta']\n",
        "df['renda'] = pd.Categorical(df['renda'], categories=ordem, ordered=True)\n",
        "sns.countplot(x='renda',data=df,hue=\"consumo_alcool\", palette=cores)"
      ]
    },
    {
      "cell_type": "code",
      "execution_count": null,
      "metadata": {
        "colab": {
          "base_uri": "https://localhost:8080/",
          "height": 475
        },
        "id": "mhmw_2Ku2nqz",
        "outputId": "04c915db-8a16-47cb-ce5f-b8dbc11f5fde"
      },
      "outputs": [
        {
          "data": {
            "text/plain": [
              "<Axes: xlabel='tax_suicidio', ylabel='count'>"
            ]
          },
          "execution_count": 76,
          "metadata": {},
          "output_type": "execute_result"
        },
        {
          "data": {
            "image/png": "[encoded data removed]",
            "text/plain": [
              "<Figure size 1400x600 with 1 Axes>"
            ]
          },
          "metadata": {},
          "output_type": "display_data"
        }
      ],
      "source": [
        "#plotando a taxa de suicidio pelo consumo de alcool\n",
        "plt.figure(figsize=(14,6))\n",
        "cores = ['pink', 'magenta', 'purple']\n",
        "ordem = ['muito baixa', 'baixa', 'media', 'alta']\n",
        "df['tax_suicidio'] = pd.Categorical(df['tax_suicidio'], categories=ordem, ordered=True)\n",
        "sns.countplot(x='tax_suicidio',data=df,hue=\"consumo_alcool\", palette=cores)"
      ]
    },
    {
      "cell_type": "code",
      "execution_count": null,
      "metadata": {
        "colab": {
          "base_uri": "https://localhost:8080/",
          "height": 470
        },
        "id": "cH5aP9_U27sn",
        "outputId": "143750c4-660f-47ba-e32c-129aa803124d"
      },
      "outputs": [
        {
          "data": {
            "text/plain": [
              "<Axes: xlabel='tax_emprego', ylabel='count'>"
            ]
          },
          "execution_count": 77,
          "metadata": {},
          "output_type": "execute_result"
        },
        {
          "data": {
            "image/png": "[encoded data removed]",
            "text/plain": [
              "<Figure size 1400x600 with 1 Axes>"
            ]
          },
          "metadata": {},
          "output_type": "display_data"
        }
      ],
      "source": [
        "#plotando a taxa de emprego pelo consumo de alcool\n",
        "plt.figure(figsize=(14,6))\n",
        "cores = ['pink', 'magenta', 'purple']\n",
        "ordem = ['muito baixa', 'baixa', 'media', 'alta']\n",
        "df['tax_emprego'] = pd.Categorical(df['tax_emprego'], categories=ordem, ordered=True)\n",
        "sns.countplot(x='tax_emprego',data=df,hue=\"consumo_alcool\", palette=cores)"
      ]
    },
    {
      "cell_type": "code",
      "execution_count": null,
      "metadata": {
        "colab": {
          "base_uri": "https://localhost:8080/",
          "height": 475
        },
        "id": "_w1Ye-AD3Glv",
        "outputId": "3dc6f47f-174c-488d-ab08-7e0b74902e82"
      },
      "outputs": [
        {
          "data": {
            "text/plain": [
              "<Axes: xlabel='tax_urbana', ylabel='count'>"
            ]
          },
          "execution_count": 78,
          "metadata": {},
          "output_type": "execute_result"
        },
        {
          "data": {
            "image/png": "[encoded data removed]",
            "text/plain": [
              "<Figure size 1400x600 with 1 Axes>"
            ]
          },
          "metadata": {},
          "output_type": "display_data"
        }
      ],
      "source": [
        "#plotando a taxa urbana pelo consumo de alcool\n",
        "plt.figure(figsize=(14,6))\n",
        "cores = ['pink', 'magenta', 'purple']\n",
        "ordem = ['muito baixa', 'baixa', 'media', 'alta']\n",
        "df['tax_urbana'] = pd.Categorical(df['tax_urbana'], categories=ordem, ordered=True)\n",
        "sns.countplot(x='tax_urbana',data=df,hue=\"consumo_alcool\", palette=cores)"
      ]
    },
    {
      "cell_type": "code",
      "execution_count": null,
      "metadata": {
        "id": "haHsppqMGmv1"
      },
      "outputs": [],
      "source": [
        "#separando a variavel target das outras\n",
        "y = df[\"consumo_alcool\"]\n",
        "X = df.drop(\"consumo_alcool\", axis = 1)"
      ]
    },
    {
      "cell_type": "code",
      "execution_count": null,
      "metadata": {
        "id": "T9RDZrTlGoq6"
      },
      "outputs": [],
      "source": [
        "#Separando o dataset em treinamento e teste\n",
        "colunas = ['incomeperperson','suicideper100th', 'employrate', 'urbanrate']\n",
        "X = X[colunas]"
      ]
    },
    {
      "cell_type": "markdown",
      "metadata": {
        "id": "5b1J20l-6btE"
      },
      "source": [
        "# **Feature Engineering**"
      ]
    },
    {
      "cell_type": "markdown",
      "metadata": {
        "id": "ksqMF4Ze6hJQ"
      },
      "source": [
        "Vamos classificar os dados para aplicar o algoritmo de Bayes\n",
        "\n"
      ]
    },
    {
      "cell_type": "code",
      "execution_count": null,
      "metadata": {
        "id": "V0xt7w0vP9vD"
      },
      "outputs": [],
      "source": [
        "#categorizando a renda em 4 faixas\n",
        "\n",
        "\n",
        "# Definindo os limites das faixas de renda\n",
        "limits = [0, 2400, 8600, 53000]\n",
        "\n",
        "\n",
        "# Definindo os rótulos para as faixas de renda\n",
        "labels = [1, 2, 3]\n",
        "\n",
        "\n",
        "# Utilizando a função cut para categorizar a renda\n",
        "X['income_category'] = pd.cut(X['incomeperperson'], bins=limits, labels=labels, include_lowest=True)\n",
        "\n",
        "\n",
        "# Convertendo a nova coluna para o tipo inteiro, se necessário\n",
        "X['income_category'] = X['income_category'].astype(int)\n"
      ]
    },
    {
      "cell_type": "code",
      "execution_count": null,
      "metadata": {
        "id": "GYfIB7JgVRNV"
      },
      "outputs": [],
      "source": [
        "#categorizando a taxa de suicidio em 4 faixas\n",
        "\n",
        "# Definindo os limites das faixas de renda\n",
        "limits = [0, 9, 13, 36]\n",
        "\n",
        "# Definindo os rótulos para as faixas de renda\n",
        "labels = [1, 2, 3]\n",
        "\n",
        "# Utilizando a função cut para categorizar a renda\n",
        "X['suicide_category'] = pd.cut(X['suicideper100th'], bins=limits, labels=labels, include_lowest=True)\n",
        "\n",
        "# Convertendo a nova coluna para o tipo inteiro, se necessário\n",
        "X['suicide_category'] = X['suicide_category'].astype(int)\n"
      ]
    },
    {
      "cell_type": "markdown",
      "metadata": {
        "id": "4TOrdCwBEom2"
      },
      "source": [
        "# Aplicação do Naive Bayes"
      ]
    },
    {
      "cell_type": "code",
      "execution_count": null,
      "metadata": {
        "id": "yRMm5OuuEx4E"
      },
      "outputs": [],
      "source": [
        "#Separando o dataset em treinamento e teste\n",
        "X_train, X_test, y_train, y_test = train_test_split(X, y, test_size = 0.2, random_state=None)"
      ]
    },
    {
      "cell_type": "code",
      "execution_count": null,
      "metadata": {
        "colab": {
          "base_uri": "https://localhost:8080/"
        },
        "id": "8SbDAdHOE3Dx",
        "outputId": "3df8099b-15b7-4bab-9d6b-a850d07ef5af"
      },
      "outputs": [
        {
          "data": {
            "text/plain": [
              "(33, 6)"
            ]
          },
          "execution_count": 84,
          "metadata": {},
          "output_type": "execute_result"
        }
      ],
      "source": [
        "#Treinando o algoritmo\n",
        "clf = CategoricalNB()\n",
        "clf.fit(X_train, y_train)\n",
        "\n",
        "X_train.shape\n",
        "X_test.shape"
      ]
    },
    {
      "cell_type": "code",
      "execution_count": null,
      "metadata": {
        "id": "TnG1nmktE6Ih"
      },
      "outputs": [],
      "source": [
        "#Realizando o teste\n",
        "y_pred = clf.predict(X_test)"
      ]
    },
    {
      "cell_type": "markdown",
      "metadata": {
        "id": "LgwZKPMpyldP"
      },
      "source": [
        "# **RESULTADOS**"
      ]
    },
    {
      "cell_type": "code",
      "execution_count": null,
      "metadata": {
        "colab": {
          "base_uri": "https://localhost:8080/"
        },
        "id": "-n4MHET2RjFm",
        "outputId": "55e5b39f-2eef-46f6-8c14-11f1569ace93"
      },
      "outputs": [
        {
          "name": "stdout",
          "output_type": "stream",
          "text": [
            "Accuracy: 0.5151515151515151\n",
            "Classification Report:\n",
            "                  precision    recall  f1-score   support\n",
            "\n",
            "    consumo alto       0.69      0.73      0.71        15\n",
            "   consumo baixo       0.56      0.38      0.45        13\n",
            "consumo moderado       0.12      0.20      0.15         5\n",
            "\n",
            "        accuracy                           0.52        33\n",
            "       macro avg       0.46      0.44      0.44        33\n",
            "    weighted avg       0.55      0.52      0.52        33\n",
            "\n"
          ]
        }
      ],
      "source": [
        "accuracy = accuracy_score(y_test, y_pred)\n",
        "classification_rep = classification_report(y_test, y_pred)\n",
        "print(f\"Accuracy: {accuracy}\")\n",
        "print(f\"Classification Report:\\n{classification_rep}\")"
      ]
    },
    {
      "cell_type": "code",
      "execution_count": null,
      "metadata": {
        "colab": {
          "base_uri": "https://localhost:8080/",
          "height": 449
        },
        "id": "7fA2fjB8RuQb",
        "outputId": "f13248c8-d3fd-4658-b1b3-dca3753f98ef"
      },
      "outputs": [
        {
          "data": {
            "image/png": "[encoded data removed]",
            "text/plain": [
              "<Figure size 640x480 with 2 Axes>"
            ]
          },
          "metadata": {},
          "output_type": "display_data"
        }
      ],
      "source": [
        "labels = ['consumo baixo','consumo moderado','consumo alto']\n",
        "cm = confusion_matrix(y_test, y_pred, labels=labels)\n",
        "disp = ConfusionMatrixDisplay(confusion_matrix=cm, display_labels=labels)\n",
        "disp.plot();"
      ]
    }
  ],
  "metadata": {
    "colab": {
      "include_colab_link": true,
      "provenance": []
    },
    "kernelspec": {
      "display_name": "Python 3",
      "name": "python3"
    },
    "language_info": {
      "name": "python"
    }
  },
  "nbformat": 4,
  "nbformat_minor": 0
}
